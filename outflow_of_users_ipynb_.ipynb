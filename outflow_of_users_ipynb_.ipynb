{
  "nbformat": 4,
  "nbformat_minor": 0,
  "metadata": {
    "kernelspec": {
      "display_name": "Python 3",
      "language": "python",
      "name": "python3"
    },
    "language_info": {
      "codemirror_mode": {
        "name": "ipython",
        "version": 3
      },
      "file_extension": ".py",
      "mimetype": "text/x-python",
      "name": "python",
      "nbconvert_exporter": "python",
      "pygments_lexer": "ipython3",
      "version": "3.7.4"
    },
    "colab": {
      "name": "outflow-of-users.ipynb\"",
      "provenance": [],
      "collapsed_sections": []
    }
  },
  "cells": [
    {
      "cell_type": "markdown",
      "source": [
        "# Предсказание оттока пользователей сотового оператора."
      ],
      "metadata": {
        "id": "yRCcEcDJQKLr"
      }
    },
    {
      "cell_type": "markdown",
      "source": [
        "Загрузим датасет с информацией о пользователях оператора и сначала при помощи логистической регрессии, а затем при помощи CatBoost, предскажем уйдет ли пользователь от этого оператора или нет."
      ],
      "metadata": {
        "id": "T1hf6EVOQSdn"
      }
    },
    {
      "cell_type": "markdown",
      "source": [
        "### Анализ и подготовка данных"
      ],
      "metadata": {
        "id": "WiEuLshWemWY"
      }
    },
    {
      "cell_type": "code",
      "metadata": {
        "id": "lzLqEeZKEEYz"
      },
      "source": [
        "import pandas as pd\n",
        "import numpy as np\n",
        "from matplotlib import pyplot as plt\n",
        "!pip install catboost"
      ],
      "execution_count": null,
      "outputs": []
    },
    {
      "cell_type": "code",
      "metadata": {
        "id": "pw-Brue9EEY3"
      },
      "source": [
        "data = pd.read_csv('./train.csv')"
      ],
      "execution_count": 16,
      "outputs": []
    },
    {
      "cell_type": "code",
      "metadata": {
        "id": "KgnkkF5bEEY9",
        "colab": {
          "base_uri": "https://localhost:8080/",
          "height": 340
        },
        "outputId": "7775a94e-16fd-497f-844b-0ef2d46c02db"
      },
      "source": [
        "# Числовые признаки\n",
        "num_cols = [\n",
        "    'ClientPeriod',\n",
        "    'MonthlySpending',\n",
        "    'TotalSpent'\n",
        "]\n",
        "\n",
        "# Категориальные признаки\n",
        "cat_cols = [\n",
        "    'Sex',\n",
        "    'IsSeniorCitizen',\n",
        "    'HasPartner',\n",
        "    'HasChild',\n",
        "    'HasPhoneService',\n",
        "    'HasMultiplePhoneNumbers',\n",
        "    'HasInternetService',\n",
        "    'HasOnlineSecurityService',\n",
        "    'HasOnlineBackup',\n",
        "    'HasDeviceProtection',\n",
        "    'HasTechSupportAccess',\n",
        "    'HasOnlineTV',\n",
        "    'HasMovieSubscription',\n",
        "    'HasContractPhone',\n",
        "    'IsBillingPaperless',\n",
        "    'PaymentMethod'\n",
        "]\n",
        "\n",
        "feature_cols = num_cols + cat_cols\n",
        "target_col = ['Churn']\n",
        "cols = feature_cols + target_col\n",
        "data = data[cols]\n",
        "data.head()"
      ],
      "execution_count": 17,
      "outputs": [
        {
          "output_type": "execute_result",
          "data": {
            "text/plain": [
              "   ClientPeriod  MonthlySpending TotalSpent     Sex  IsSeniorCitizen  \\\n",
              "0            55            19.50    1026.35    Male                0   \n",
              "1            72            25.85     1872.2    Male                0   \n",
              "2             1            75.90       75.9    Male                0   \n",
              "3            32            79.30       2570  Female                1   \n",
              "4            60           115.25    6758.45  Female                0   \n",
              "\n",
              "  HasPartner HasChild HasPhoneService HasMultiplePhoneNumbers  \\\n",
              "0        Yes      Yes             Yes                      No   \n",
              "1        Yes       No             Yes                     Yes   \n",
              "2         No       No             Yes                      No   \n",
              "3        Yes       No             Yes                     Yes   \n",
              "4        Yes      Yes             Yes                     Yes   \n",
              "\n",
              "  HasInternetService HasOnlineSecurityService      HasOnlineBackup  \\\n",
              "0                 No      No internet service  No internet service   \n",
              "1                 No      No internet service  No internet service   \n",
              "2        Fiber optic                       No                   No   \n",
              "3        Fiber optic                       No                   No   \n",
              "4        Fiber optic                      Yes                  Yes   \n",
              "\n",
              "   HasDeviceProtection HasTechSupportAccess          HasOnlineTV  \\\n",
              "0  No internet service  No internet service  No internet service   \n",
              "1  No internet service  No internet service  No internet service   \n",
              "2                   No                  Yes                   No   \n",
              "3                  Yes                   No                   No   \n",
              "4                  Yes                  Yes                  Yes   \n",
              "\n",
              "  HasMovieSubscription HasContractPhone IsBillingPaperless  \\\n",
              "0  No internet service         One year                 No   \n",
              "1  No internet service         Two year                 No   \n",
              "2                   No   Month-to-month                Yes   \n",
              "3                   No   Month-to-month                 No   \n",
              "4                  Yes         Two year                 No   \n",
              "\n",
              "             PaymentMethod  Churn  \n",
              "0             Mailed check      0  \n",
              "1  Credit card (automatic)      0  \n",
              "2         Electronic check      1  \n",
              "3             Mailed check      0  \n",
              "4  Credit card (automatic)      0  "
            ],
            "text/html": [
              "\n",
              "  <div id=\"df-66745b70-848c-4979-a73c-1cf65ca8d13d\">\n",
              "    <div class=\"colab-df-container\">\n",
              "      <div>\n",
              "<style scoped>\n",
              "    .dataframe tbody tr th:only-of-type {\n",
              "        vertical-align: middle;\n",
              "    }\n",
              "\n",
              "    .dataframe tbody tr th {\n",
              "        vertical-align: top;\n",
              "    }\n",
              "\n",
              "    .dataframe thead th {\n",
              "        text-align: right;\n",
              "    }\n",
              "</style>\n",
              "<table border=\"1\" class=\"dataframe\">\n",
              "  <thead>\n",
              "    <tr style=\"text-align: right;\">\n",
              "      <th></th>\n",
              "      <th>ClientPeriod</th>\n",
              "      <th>MonthlySpending</th>\n",
              "      <th>TotalSpent</th>\n",
              "      <th>Sex</th>\n",
              "      <th>IsSeniorCitizen</th>\n",
              "      <th>HasPartner</th>\n",
              "      <th>HasChild</th>\n",
              "      <th>HasPhoneService</th>\n",
              "      <th>HasMultiplePhoneNumbers</th>\n",
              "      <th>HasInternetService</th>\n",
              "      <th>HasOnlineSecurityService</th>\n",
              "      <th>HasOnlineBackup</th>\n",
              "      <th>HasDeviceProtection</th>\n",
              "      <th>HasTechSupportAccess</th>\n",
              "      <th>HasOnlineTV</th>\n",
              "      <th>HasMovieSubscription</th>\n",
              "      <th>HasContractPhone</th>\n",
              "      <th>IsBillingPaperless</th>\n",
              "      <th>PaymentMethod</th>\n",
              "      <th>Churn</th>\n",
              "    </tr>\n",
              "  </thead>\n",
              "  <tbody>\n",
              "    <tr>\n",
              "      <th>0</th>\n",
              "      <td>55</td>\n",
              "      <td>19.50</td>\n",
              "      <td>1026.35</td>\n",
              "      <td>Male</td>\n",
              "      <td>0</td>\n",
              "      <td>Yes</td>\n",
              "      <td>Yes</td>\n",
              "      <td>Yes</td>\n",
              "      <td>No</td>\n",
              "      <td>No</td>\n",
              "      <td>No internet service</td>\n",
              "      <td>No internet service</td>\n",
              "      <td>No internet service</td>\n",
              "      <td>No internet service</td>\n",
              "      <td>No internet service</td>\n",
              "      <td>No internet service</td>\n",
              "      <td>One year</td>\n",
              "      <td>No</td>\n",
              "      <td>Mailed check</td>\n",
              "      <td>0</td>\n",
              "    </tr>\n",
              "    <tr>\n",
              "      <th>1</th>\n",
              "      <td>72</td>\n",
              "      <td>25.85</td>\n",
              "      <td>1872.2</td>\n",
              "      <td>Male</td>\n",
              "      <td>0</td>\n",
              "      <td>Yes</td>\n",
              "      <td>No</td>\n",
              "      <td>Yes</td>\n",
              "      <td>Yes</td>\n",
              "      <td>No</td>\n",
              "      <td>No internet service</td>\n",
              "      <td>No internet service</td>\n",
              "      <td>No internet service</td>\n",
              "      <td>No internet service</td>\n",
              "      <td>No internet service</td>\n",
              "      <td>No internet service</td>\n",
              "      <td>Two year</td>\n",
              "      <td>No</td>\n",
              "      <td>Credit card (automatic)</td>\n",
              "      <td>0</td>\n",
              "    </tr>\n",
              "    <tr>\n",
              "      <th>2</th>\n",
              "      <td>1</td>\n",
              "      <td>75.90</td>\n",
              "      <td>75.9</td>\n",
              "      <td>Male</td>\n",
              "      <td>0</td>\n",
              "      <td>No</td>\n",
              "      <td>No</td>\n",
              "      <td>Yes</td>\n",
              "      <td>No</td>\n",
              "      <td>Fiber optic</td>\n",
              "      <td>No</td>\n",
              "      <td>No</td>\n",
              "      <td>No</td>\n",
              "      <td>Yes</td>\n",
              "      <td>No</td>\n",
              "      <td>No</td>\n",
              "      <td>Month-to-month</td>\n",
              "      <td>Yes</td>\n",
              "      <td>Electronic check</td>\n",
              "      <td>1</td>\n",
              "    </tr>\n",
              "    <tr>\n",
              "      <th>3</th>\n",
              "      <td>32</td>\n",
              "      <td>79.30</td>\n",
              "      <td>2570</td>\n",
              "      <td>Female</td>\n",
              "      <td>1</td>\n",
              "      <td>Yes</td>\n",
              "      <td>No</td>\n",
              "      <td>Yes</td>\n",
              "      <td>Yes</td>\n",
              "      <td>Fiber optic</td>\n",
              "      <td>No</td>\n",
              "      <td>No</td>\n",
              "      <td>Yes</td>\n",
              "      <td>No</td>\n",
              "      <td>No</td>\n",
              "      <td>No</td>\n",
              "      <td>Month-to-month</td>\n",
              "      <td>No</td>\n",
              "      <td>Mailed check</td>\n",
              "      <td>0</td>\n",
              "    </tr>\n",
              "    <tr>\n",
              "      <th>4</th>\n",
              "      <td>60</td>\n",
              "      <td>115.25</td>\n",
              "      <td>6758.45</td>\n",
              "      <td>Female</td>\n",
              "      <td>0</td>\n",
              "      <td>Yes</td>\n",
              "      <td>Yes</td>\n",
              "      <td>Yes</td>\n",
              "      <td>Yes</td>\n",
              "      <td>Fiber optic</td>\n",
              "      <td>Yes</td>\n",
              "      <td>Yes</td>\n",
              "      <td>Yes</td>\n",
              "      <td>Yes</td>\n",
              "      <td>Yes</td>\n",
              "      <td>Yes</td>\n",
              "      <td>Two year</td>\n",
              "      <td>No</td>\n",
              "      <td>Credit card (automatic)</td>\n",
              "      <td>0</td>\n",
              "    </tr>\n",
              "  </tbody>\n",
              "</table>\n",
              "</div>\n",
              "      <button class=\"colab-df-convert\" onclick=\"convertToInteractive('df-66745b70-848c-4979-a73c-1cf65ca8d13d')\"\n",
              "              title=\"Convert this dataframe to an interactive table.\"\n",
              "              style=\"display:none;\">\n",
              "        \n",
              "  <svg xmlns=\"http://www.w3.org/2000/svg\" height=\"24px\"viewBox=\"0 0 24 24\"\n",
              "       width=\"24px\">\n",
              "    <path d=\"M0 0h24v24H0V0z\" fill=\"none\"/>\n",
              "    <path d=\"M18.56 5.44l.94 2.06.94-2.06 2.06-.94-2.06-.94-.94-2.06-.94 2.06-2.06.94zm-11 1L8.5 8.5l.94-2.06 2.06-.94-2.06-.94L8.5 2.5l-.94 2.06-2.06.94zm10 10l.94 2.06.94-2.06 2.06-.94-2.06-.94-.94-2.06-.94 2.06-2.06.94z\"/><path d=\"M17.41 7.96l-1.37-1.37c-.4-.4-.92-.59-1.43-.59-.52 0-1.04.2-1.43.59L10.3 9.45l-7.72 7.72c-.78.78-.78 2.05 0 2.83L4 21.41c.39.39.9.59 1.41.59.51 0 1.02-.2 1.41-.59l7.78-7.78 2.81-2.81c.8-.78.8-2.07 0-2.86zM5.41 20L4 18.59l7.72-7.72 1.47 1.35L5.41 20z\"/>\n",
              "  </svg>\n",
              "      </button>\n",
              "      \n",
              "  <style>\n",
              "    .colab-df-container {\n",
              "      display:flex;\n",
              "      flex-wrap:wrap;\n",
              "      gap: 12px;\n",
              "    }\n",
              "\n",
              "    .colab-df-convert {\n",
              "      background-color: #E8F0FE;\n",
              "      border: none;\n",
              "      border-radius: 50%;\n",
              "      cursor: pointer;\n",
              "      display: none;\n",
              "      fill: #1967D2;\n",
              "      height: 32px;\n",
              "      padding: 0 0 0 0;\n",
              "      width: 32px;\n",
              "    }\n",
              "\n",
              "    .colab-df-convert:hover {\n",
              "      background-color: #E2EBFA;\n",
              "      box-shadow: 0px 1px 2px rgba(60, 64, 67, 0.3), 0px 1px 3px 1px rgba(60, 64, 67, 0.15);\n",
              "      fill: #174EA6;\n",
              "    }\n",
              "\n",
              "    [theme=dark] .colab-df-convert {\n",
              "      background-color: #3B4455;\n",
              "      fill: #D2E3FC;\n",
              "    }\n",
              "\n",
              "    [theme=dark] .colab-df-convert:hover {\n",
              "      background-color: #434B5C;\n",
              "      box-shadow: 0px 1px 3px 1px rgba(0, 0, 0, 0.15);\n",
              "      filter: drop-shadow(0px 1px 2px rgba(0, 0, 0, 0.3));\n",
              "      fill: #FFFFFF;\n",
              "    }\n",
              "  </style>\n",
              "\n",
              "      <script>\n",
              "        const buttonEl =\n",
              "          document.querySelector('#df-66745b70-848c-4979-a73c-1cf65ca8d13d button.colab-df-convert');\n",
              "        buttonEl.style.display =\n",
              "          google.colab.kernel.accessAllowed ? 'block' : 'none';\n",
              "\n",
              "        async function convertToInteractive(key) {\n",
              "          const element = document.querySelector('#df-66745b70-848c-4979-a73c-1cf65ca8d13d');\n",
              "          const dataTable =\n",
              "            await google.colab.kernel.invokeFunction('convertToInteractive',\n",
              "                                                     [key], {});\n",
              "          if (!dataTable) return;\n",
              "\n",
              "          const docLinkHtml = 'Like what you see? Visit the ' +\n",
              "            '<a target=\"_blank\" href=https://colab.research.google.com/notebooks/data_table.ipynb>data table notebook</a>'\n",
              "            + ' to learn more about interactive tables.';\n",
              "          element.innerHTML = '';\n",
              "          dataTable['output_type'] = 'display_data';\n",
              "          await google.colab.output.renderOutput(dataTable, element);\n",
              "          const docLink = document.createElement('div');\n",
              "          docLink.innerHTML = docLinkHtml;\n",
              "          element.appendChild(docLink);\n",
              "        }\n",
              "      </script>\n",
              "    </div>\n",
              "  </div>\n",
              "  "
            ]
          },
          "metadata": {},
          "execution_count": 17
        }
      ]
    },
    {
      "cell_type": "markdown",
      "source": [
        "Проверим, есть ли в датасете пропущенные значения."
      ],
      "metadata": {
        "id": "cl9SO51k2kte"
      }
    },
    {
      "cell_type": "code",
      "metadata": {
        "id": "tHC6gWabEEZA",
        "colab": {
          "base_uri": "https://localhost:8080/"
        },
        "outputId": "f25577d1-c8f3-4718-c034-e55d68686a5a"
      },
      "source": [
        "data.isna().mean()"
      ],
      "execution_count": 5,
      "outputs": [
        {
          "output_type": "execute_result",
          "data": {
            "text/plain": [
              "ClientPeriod                0.0\n",
              "MonthlySpending             0.0\n",
              "TotalSpent                  0.0\n",
              "Sex                         0.0\n",
              "IsSeniorCitizen             0.0\n",
              "HasPartner                  0.0\n",
              "HasChild                    0.0\n",
              "HasPhoneService             0.0\n",
              "HasMultiplePhoneNumbers     0.0\n",
              "HasInternetService          0.0\n",
              "HasOnlineSecurityService    0.0\n",
              "HasOnlineBackup             0.0\n",
              "HasDeviceProtection         0.0\n",
              "HasTechSupportAccess        0.0\n",
              "HasOnlineTV                 0.0\n",
              "HasMovieSubscription        0.0\n",
              "HasContractPhone            0.0\n",
              "IsBillingPaperless          0.0\n",
              "PaymentMethod               0.0\n",
              "Churn                       0.0\n",
              "dtype: float64"
            ]
          },
          "metadata": {},
          "execution_count": 5
        }
      ]
    },
    {
      "cell_type": "markdown",
      "source": [
        "Пропущенных значений не найдено. Проверим типы всех признаков."
      ],
      "metadata": {
        "id": "0jxJzsXGOEZ9"
      }
    },
    {
      "cell_type": "code",
      "source": [
        "data.info()"
      ],
      "metadata": {
        "colab": {
          "base_uri": "https://localhost:8080/"
        },
        "id": "yRKFoozkOHJp",
        "outputId": "7bfa71ac-6e88-4096-ee6a-ba2050dd8a0d"
      },
      "execution_count": 6,
      "outputs": [
        {
          "output_type": "stream",
          "name": "stdout",
          "text": [
            "<class 'pandas.core.frame.DataFrame'>\n",
            "RangeIndex: 5282 entries, 0 to 5281\n",
            "Data columns (total 20 columns):\n",
            " #   Column                    Non-Null Count  Dtype  \n",
            "---  ------                    --------------  -----  \n",
            " 0   ClientPeriod              5282 non-null   int64  \n",
            " 1   MonthlySpending           5282 non-null   float64\n",
            " 2   TotalSpent                5282 non-null   object \n",
            " 3   Sex                       5282 non-null   object \n",
            " 4   IsSeniorCitizen           5282 non-null   int64  \n",
            " 5   HasPartner                5282 non-null   object \n",
            " 6   HasChild                  5282 non-null   object \n",
            " 7   HasPhoneService           5282 non-null   object \n",
            " 8   HasMultiplePhoneNumbers   5282 non-null   object \n",
            " 9   HasInternetService        5282 non-null   object \n",
            " 10  HasOnlineSecurityService  5282 non-null   object \n",
            " 11  HasOnlineBackup           5282 non-null   object \n",
            " 12  HasDeviceProtection       5282 non-null   object \n",
            " 13  HasTechSupportAccess      5282 non-null   object \n",
            " 14  HasOnlineTV               5282 non-null   object \n",
            " 15  HasMovieSubscription      5282 non-null   object \n",
            " 16  HasContractPhone          5282 non-null   object \n",
            " 17  IsBillingPaperless        5282 non-null   object \n",
            " 18  PaymentMethod             5282 non-null   object \n",
            " 19  Churn                     5282 non-null   int64  \n",
            "dtypes: float64(1), int64(3), object(16)\n",
            "memory usage: 825.4+ KB\n"
          ]
        }
      ]
    },
    {
      "cell_type": "markdown",
      "source": [
        "Численный признак TotalSpent имеет тип object, что говорит нам о том, что среди значений присутствуют нечисловые. Посмотрим распредление всех значений в TotalSpent."
      ],
      "metadata": {
        "id": "BwqMVgajORhF"
      }
    },
    {
      "cell_type": "code",
      "source": [
        "data['TotalSpent'].value_counts()"
      ],
      "metadata": {
        "colab": {
          "base_uri": "https://localhost:8080/"
        },
        "id": "JYj6DvhpPDZp",
        "outputId": "90c2da93-5f98-4202-ebc2-c1a8aadfe958"
      },
      "execution_count": 7,
      "outputs": [
        {
          "output_type": "execute_result",
          "data": {
            "text/plain": [
              "           9\n",
              "20.2       9\n",
              "19.75      8\n",
              "20.05      6\n",
              "19.65      6\n",
              "          ..\n",
              "41.85      1\n",
              "4326.25    1\n",
              "950.2      1\n",
              "4264       1\n",
              "1375.6     1\n",
              "Name: TotalSpent, Length: 4978, dtype: int64"
            ]
          },
          "metadata": {},
          "execution_count": 7
        }
      ]
    },
    {
      "cell_type": "markdown",
      "source": [
        "Среди значений есть пробелы, заменим их на нули и приведйм всй к типу float."
      ],
      "metadata": {
        "id": "6RN4h48EPPtJ"
      }
    },
    {
      "cell_type": "code",
      "source": [
        "data['TotalSpent'] = data['TotalSpent'].replace(' ', '0').astype(float)"
      ],
      "metadata": {
        "id": "2Vq-bxPG7K1O"
      },
      "execution_count": 18,
      "outputs": []
    },
    {
      "cell_type": "markdown",
      "source": [
        "Теперь данные готовы к последующей обработке."
      ],
      "metadata": {
        "id": "NpXCwGIDPecp"
      }
    },
    {
      "cell_type": "markdown",
      "source": [
        "Построим гистограмму для численных признаков."
      ],
      "metadata": {
        "id": "46FdzqHAPuPp"
      }
    },
    {
      "cell_type": "code",
      "metadata": {
        "id": "NZkbgFJZEEZE",
        "colab": {
          "base_uri": "https://localhost:8080/",
          "height": 608
        },
        "outputId": "cc23f56b-d412-4fcd-8c05-59e924aabfa2"
      },
      "source": [
        "data.hist(column=num_cols, figsize=(10, 10))\n",
        "None"
      ],
      "execution_count": 9,
      "outputs": [
        {
          "output_type": "display_data",
          "data": {
            "text/plain": [
              "<Figure size 720x720 with 4 Axes>"
            ],
            "image/png": "[encoded data removed]"
          },
          "metadata": {
            "needs_background": "light"
          }
        }
      ]
    },
    {
      "cell_type": "markdown",
      "source": [
        "Посмотрим распределение категориальных признаков и построим круговые диаграммы."
      ],
      "metadata": {
        "id": "2FMDRftI5B37"
      }
    },
    {
      "cell_type": "code",
      "source": [
        "for col in cat_cols:\n",
        "    print(f\"{col} DISTRIBUTION\")\n",
        "    print(data[col].value_counts())\n",
        "    print()\n",
        "for col in cat_cols:\n",
        "    fig1, ax1 = plt.subplots()\n",
        "    labels = set(data[col])\n",
        "    ax1.pie(data[col].value_counts(), labels = labels)\n",
        "    ax1.axis('equal')\n",
        "    plt.title(str(col))\n",
        "    plt.show()"
      ],
      "metadata": {
        "colab": {
          "base_uri": "https://localhost:8080/",
          "height": 1000
        },
        "id": "IFqaqaq3Q-dy",
        "outputId": "f0828974-adda-413d-ddce-f735c429a323"
      },
      "execution_count": 10,
      "outputs": [
        {
          "output_type": "stream",
          "name": "stdout",
          "text": [
            "Sex DISTRIBUTION\n",
            "Male      2655\n",
            "Female    2627\n",
            "Name: Sex, dtype: int64\n",
            "\n",
            "IsSeniorCitizen DISTRIBUTION\n",
            "0    4440\n",
            "1     842\n",
            "Name: IsSeniorCitizen, dtype: int64\n",
            "\n",
            "HasPartner DISTRIBUTION\n",
            "No     2705\n",
            "Yes    2577\n",
            "Name: HasPartner, dtype: int64\n",
            "\n",
            "HasChild DISTRIBUTION\n",
            "No     3676\n",
            "Yes    1606\n",
            "Name: HasChild, dtype: int64\n",
            "\n",
            "HasPhoneService DISTRIBUTION\n",
            "Yes    4761\n",
            "No      521\n",
            "Name: HasPhoneService, dtype: int64\n",
            "\n",
            "HasMultiplePhoneNumbers DISTRIBUTION\n",
            "No                  2511\n",
            "Yes                 2250\n",
            "No phone service     521\n",
            "Name: HasMultiplePhoneNumbers, dtype: int64\n",
            "\n",
            "HasInternetService DISTRIBUTION\n",
            "Fiber optic    2341\n",
            "DSL            1800\n",
            "No             1141\n",
            "Name: HasInternetService, dtype: int64\n",
            "\n",
            "HasOnlineSecurityService DISTRIBUTION\n",
            "No                     2612\n",
            "Yes                    1529\n",
            "No internet service    1141\n",
            "Name: HasOnlineSecurityService, dtype: int64\n",
            "\n",
            "HasOnlineBackup DISTRIBUTION\n",
            "No                     2332\n",
            "Yes                    1809\n",
            "No internet service    1141\n",
            "Name: HasOnlineBackup, dtype: int64\n",
            "\n",
            "HasDeviceProtection DISTRIBUTION\n",
            "No                     2317\n",
            "Yes                    1824\n",
            "No internet service    1141\n",
            "Name: HasDeviceProtection, dtype: int64\n",
            "\n",
            "HasTechSupportAccess DISTRIBUTION\n",
            "No                     2604\n",
            "Yes                    1537\n",
            "No internet service    1141\n",
            "Name: HasTechSupportAccess, dtype: int64\n",
            "\n",
            "HasOnlineTV DISTRIBUTION\n",
            "No                     2099\n",
            "Yes                    2042\n",
            "No internet service    1141\n",
            "Name: HasOnlineTV, dtype: int64\n",
            "\n",
            "HasMovieSubscription DISTRIBUTION\n",
            "No                     2081\n",
            "Yes                    2060\n",
            "No internet service    1141\n",
            "Name: HasMovieSubscription, dtype: int64\n",
            "\n",
            "HasContractPhone DISTRIBUTION\n",
            "Month-to-month    2920\n",
            "Two year          1280\n",
            "One year          1082\n",
            "Name: HasContractPhone, dtype: int64\n",
            "\n",
            "IsBillingPaperless DISTRIBUTION\n",
            "Yes    3148\n",
            "No     2134\n",
            "Name: IsBillingPaperless, dtype: int64\n",
            "\n",
            "PaymentMethod DISTRIBUTION\n",
            "Electronic check             1786\n",
            "Mailed check                 1194\n",
            "Bank transfer (automatic)    1159\n",
            "Credit card (automatic)      1143\n",
            "Name: PaymentMethod, dtype: int64\n",
            "\n"
          ]
        },
        {
          "output_type": "display_data",
          "data": {
            "text/plain": [
              "<Figure size 432x288 with 1 Axes>"
            ],
            "image/png": "[encoded data removed]"
          },
          "metadata": {}
        },
        {
          "output_type": "display_data",
          "data": {
            "text/plain": [
              "<Figure size 432x288 with 1 Axes>"
            ],
            "image/png": "[encoded data removed]"
          },
          "metadata": {}
        },
        {
          "output_type": "display_data",
          "data": {
            "text/plain": [
              "<Figure size 432x288 with 1 Axes>"
            ],
            "image/png": "[encoded data removed]"
          },
          "metadata": {}
        },
        {
          "output_type": "display_data",
          "data": {
            "text/plain": [
              "<Figure size 432x288 with 1 Axes>"
            ],
            "image/png": "[encoded data removed]"
          },
          "metadata": {}
        },
        {
          "output_type": "display_data",
          "data": {
            "text/plain": [
              "<Figure size 432x288 with 1 Axes>"
            ],
            "image/png": "[encoded data removed]"
          },
          "metadata": {}
        },
        {
          "output_type": "display_data",
          "data": {
            "text/plain": [
              "<Figure size 432x288 with 1 Axes>"
            ],
            "image/png": "[encoded data removed]"
          },
          "metadata": {}
        },
        {
          "output_type": "display_data",
          "data": {
            "text/plain": [
              "<Figure size 432x288 with 1 Axes>"
            ],
            "image/png": "[encoded data removed]"
          },
          "metadata": {}
        },
        {
          "output_type": "display_data",
          "data": {
            "text/plain": [
              "<Figure size 432x288 with 1 Axes>"
            ],
            "image/png": "[encoded data removed]"
          },
          "metadata": {}
        },
        {
          "output_type": "display_data",
          "data": {
            "text/plain": [
              "<Figure size 432x288 with 1 Axes>"
            ],
            "image/png": "[encoded data removed]"
          },
          "metadata": {}
        },
        {
          "output_type": "display_data",
          "data": {
            "text/plain": [
              "<Figure size 432x288 with 1 Axes>"
            ],
            "image/png": "[encoded data removed]"
          },
          "metadata": {}
        },
        {
          "output_type": "display_data",
          "data": {
            "text/plain": [
              "<Figure size 432x288 with 1 Axes>"
            ],
            "image/png": "[encoded data removed]"
          },
          "metadata": {}
        },
        {
          "output_type": "display_data",
          "data": {
            "text/plain": [
              "<Figure size 432x288 with 1 Axes>"
            ],
            "image/png": "[encoded data removed]"
          },
          "metadata": {}
        },
        {
          "output_type": "display_data",
          "data": {
            "text/plain": [
              "<Figure size 432x288 with 1 Axes>"
            ],
            "image/png": "[encoded data removed]"
          },
          "metadata": {}
        },
        {
          "output_type": "display_data",
          "data": {
            "text/plain": [
              "<Figure size 432x288 with 1 Axes>"
            ],
            "image/png": "[encoded data removed]"
          },
          "metadata": {}
        },
        {
          "output_type": "display_data",
          "data": {
            "text/plain": [
              "<Figure size 432x288 with 1 Axes>"
            ],
            "image/png": "[encoded data removed]"
          },
          "metadata": {}
        },
        {
          "output_type": "display_data",
          "data": {
            "text/plain": [
              "<Figure size 432x288 with 1 Axes>"
            ],
            "image/png": "[encoded data removed]"
          },
          "metadata": {}
        }
      ]
    },
    {
      "cell_type": "markdown",
      "source": [
        "Посмотрим сбалансированность классов."
      ],
      "metadata": {
        "id": "5cAX-cc_S2kW"
      }
    },
    {
      "cell_type": "code",
      "source": [
        "data[target_col].value_counts()"
      ],
      "metadata": {
        "colab": {
          "base_uri": "https://localhost:8080/"
        },
        "id": "jy7rTQ2QS_HH",
        "outputId": "89bb17e8-58c6-4775-e293-ca4b50882d28"
      },
      "execution_count": 11,
      "outputs": [
        {
          "output_type": "execute_result",
          "data": {
            "text/plain": [
              "Churn\n",
              "0        3898\n",
              "1        1384\n",
              "dtype: int64"
            ]
          },
          "metadata": {},
          "execution_count": 11
        }
      ]
    },
    {
      "cell_type": "markdown",
      "source": [
        "По распредлению значений у целевой переменной можно сказать, что классы являются почти сбалансироваными. Класс \"0\" превышает класс \"1\" почти в 3 раза. В данном случае использовать методы борьбы с imbalanced dataset не обязательно."
      ],
      "metadata": {
        "id": "snPUSk5cTacX"
      }
    },
    {
      "cell_type": "markdown",
      "source": [
        "### Логистическая регрессия"
      ],
      "metadata": {
        "id": "9qPO74CDkybd"
      }
    },
    {
      "cell_type": "code",
      "metadata": {
        "id": "xHCLDmwqEEZL"
      },
      "source": [
        "from sklearn.linear_model import LogisticRegression, LogisticRegressionCV\n",
        "from sklearn.model_selection import train_test_split, GridSearchCV\n",
        "from sklearn.preprocessing import StandardScaler, RobustScaler, LabelEncoder, OneHotEncoder\n",
        "from sklearn.pipeline import make_pipeline, Pipeline\n",
        "from sklearn.metrics import roc_auc_score"
      ],
      "execution_count": 12,
      "outputs": []
    },
    {
      "cell_type": "markdown",
      "source": [
        "Подготовим данные к работе."
      ],
      "metadata": {
        "id": "BMxgt_HVSJhO"
      }
    },
    {
      "cell_type": "code",
      "source": [
        "#Закодируем категориальные признаки при помощи one-hot-encoding'а и заменим категориальные признаки на новые числовые\n",
        "data = pd.get_dummies(data, columns=cat_cols)\n",
        "cat_cols_new = []\n",
        "for col_name in cat_cols:\n",
        "    cat_cols_new.extend(filter(lambda x: x.startswith(col_name), data.columns))\n",
        "cat_cols = cat_cols_new\n",
        "\n",
        "#Разделим датасет на train и test части\n",
        "X_train, X_test, y_train, y_test = train_test_split(data[num_cols + cat_cols], data[target_col], test_size=0.2)\n",
        "\n",
        "#Отнормируем числовые признаки\n",
        "pca = StandardScaler()\n",
        "X_train[num_cols] = pca.fit_transform(X_train[num_cols])\n",
        "X_test[num_cols] = pca.transform(X_test[num_cols])"
      ],
      "metadata": {
        "id": "2Q0mK0gatYqr"
      },
      "execution_count": 13,
      "outputs": []
    },
    {
      "cell_type": "markdown",
      "source": [
        "Проведем обучение модели при помощи LogisticRegressionCV и подберем гиперпараметр C."
      ],
      "metadata": {
        "id": "_OUETZXBSPOM"
      }
    },
    {
      "cell_type": "code",
      "source": [
        "\n",
        "C_OPTIONS = [100, 10, 1, 0.1, 0.01, 0.001]\n",
        "\n",
        "clf = LogisticRegressionCV(Cs = C_OPTIONS, scoring='roc_auc', refit=True, cv = 5, n_jobs = -1)\n",
        "clf.fit(X_train, y_train)\n",
        "y_pred = clf.predict_proba(X_test)[:,1]\n",
        "\n",
        "print('Лучшее качество при обучении: ', clf.scores_[1].max())\n",
        "print('Гиперпараметр C при наилучшем качестве: ', clf.C_)\n",
        "print('Качество на тестовой части: ', roc_auc_score(y_test, y_pred))"
      ],
      "metadata": {
        "colab": {
          "base_uri": "https://localhost:8080/"
        },
        "id": "8icMgv6fA0oU",
        "outputId": "c7c13dcd-44a9-4176-acdc-0ddb411eb1ba"
      },
      "execution_count": 14,
      "outputs": [
        {
          "output_type": "stream",
          "name": "stderr",
          "text": [
            "/usr/local/lib/python3.7/dist-packages/sklearn/utils/validation.py:993: DataConversionWarning: A column-vector y was passed when a 1d array was expected. Please change the shape of y to (n_samples, ), for example using ravel().\n",
            "  y = column_or_1d(y, warn=True)\n"
          ]
        },
        {
          "output_type": "stream",
          "name": "stdout",
          "text": [
            "Лучшее качество при обучении:  0.8664441336351708\n",
            "Гиперпараметр C при наилучшем качестве:  [10.]\n",
            "Качество на тестовой части:  0.8304224150192008\n"
          ]
        }
      ]
    },
    {
      "cell_type": "markdown",
      "metadata": {
        "id": "uVahy6JKEEZQ"
      },
      "source": [
        "Лучшее качество при обучении:  0.8664441336351708\n",
        "\n",
        "Гиперпараметр C при наилучшем качестве:  10\n",
        "\n",
        "Качество на тестовой части:  0.8304224150192008\n"
      ]
    },
    {
      "cell_type": "markdown",
      "source": [
        "### CatBoost"
      ],
      "metadata": {
        "id": "i7BDHHknk3xN"
      }
    },
    {
      "cell_type": "code",
      "source": [
        "import catboost"
      ],
      "metadata": {
        "id": "BKGa-LOfEkUV"
      },
      "execution_count": 15,
      "outputs": []
    },
    {
      "cell_type": "markdown",
      "source": [
        "Разделим выборку на train и test части и протестируем catboost со стандартными параметрами."
      ],
      "metadata": {
        "id": "KDRbzCsGUzbU"
      }
    },
    {
      "cell_type": "code",
      "metadata": {
        "id": "Fioxxlp-EEZS",
        "colab": {
          "base_uri": "https://localhost:8080/"
        },
        "outputId": "514d287a-4da2-42e6-fc95-3ceef706a03a"
      },
      "source": [
        "X_train, X_test, y_train, y_test = train_test_split(data[num_cols + cat_cols], data[target_col], test_size = 0.2, random_state=42)\n",
        "\n",
        "boosting_model = catboost.CatBoostClassifier(logging_level='Silent')\n",
        "boosting_model.fit(X_train, y_train, cat_features=cat_cols)\n",
        "y_pred = boosting_model.predict_proba(X_test)[:,1]\n",
        "print(roc_auc_score(y_test, y_pred))"
      ],
      "execution_count": 19,
      "outputs": [
        {
          "output_type": "stream",
          "name": "stdout",
          "text": [
            "0.823387759625419\n"
          ]
        }
      ]
    },
    {
      "cell_type": "markdown",
      "source": [
        "Качество предсказания по метрике Roc-Auc равно 0.823."
      ],
      "metadata": {
        "id": "gzkpGVWTlG1E"
      }
    },
    {
      "cell_type": "markdown",
      "source": [
        "Теперь используем grid_search, который сам переберет гиперпараметры для модели.\n",
        "\n",
        "В качестве гиперпараметров будем использовать коэффицент L2-регуляризации, learning rate и количество деревьев."
      ],
      "metadata": {
        "id": "CKRxQDw2VXuS"
      }
    },
    {
      "cell_type": "code",
      "source": [
        "X_train, X_test, y_train, y_test = train_test_split(data[num_cols + cat_cols], data[target_col], test_size = 0.2, random_state=42)\n",
        "\n",
        "boosting_model = catboost.CatBoostClassifier(logging_level='Silent', eval_metric='AUC:hints=skip_train~false', cat_features=cat_cols)\n",
        "param_grid = {'l2_leaf_reg': np.linspace(0, 1, 20), 'learning_rate': [0.01, 0.03, 0.06], 'n_estimators': [200, 250]}\n",
        "boosting_model.grid_search(param_grid, X=X_train, y=y_train, refit = True)\n",
        "y_pred = boosting_model.predict_proba(X_test)[:,1]\n",
        "print(boosting_model.best_score_)\n",
        "print(roc_auc_score(y_test, y_pred))"
      ],
      "metadata": {
        "colab": {
          "base_uri": "https://localhost:8080/"
        },
        "id": "nDr9cXoVu3Zt",
        "outputId": "47e21597-0908-4774-e63d-9cb644b9aa48"
      },
      "execution_count": 32,
      "outputs": [
        {
          "output_type": "stream",
          "name": "stderr",
          "text": [
            "Custom logger is already specified. Specify more than one logger at same time is not thread safe."
          ]
        },
        {
          "output_type": "stream",
          "name": "stdout",
          "text": [
            "0:\tloss: 0.8315146\tbest: 0.8315146 (0)\ttotal: 4.89s\tremaining: 9m 41s\n",
            "1:\tloss: 0.8361154\tbest: 0.8361154 (1)\ttotal: 7.74s\tremaining: 7m 36s\n",
            "2:\tloss: 0.8363419\tbest: 0.8363419 (2)\ttotal: 10.3s\tremaining: 6m 41s\n",
            "3:\tloss: 0.8310437\tbest: 0.8363419 (2)\ttotal: 12.8s\tremaining: 6m 11s\n",
            "4:\tloss: 0.8377149\tbest: 0.8377149 (4)\ttotal: 15.2s\tremaining: 5m 50s\n",
            "5:\tloss: 0.8317949\tbest: 0.8377149 (4)\ttotal: 17.9s\tremaining: 5m 39s\n",
            "6:\tloss: 0.8319926\tbest: 0.8377149 (4)\ttotal: 20.4s\tremaining: 5m 28s\n",
            "7:\tloss: 0.8362844\tbest: 0.8377149 (4)\ttotal: 22.8s\tremaining: 5m 19s\n",
            "8:\tloss: 0.8346201\tbest: 0.8377149 (4)\ttotal: 25.4s\tremaining: 5m 13s\n",
            "9:\tloss: 0.8334771\tbest: 0.8377149 (4)\ttotal: 27.9s\tremaining: 5m 6s\n",
            "10:\tloss: 0.8359465\tbest: 0.8377149 (4)\ttotal: 30.5s\tremaining: 5m 2s\n",
            "11:\tloss: 0.8362772\tbest: 0.8377149 (4)\ttotal: 33.2s\tremaining: 4m 58s\n",
            "12:\tloss: 0.8314103\tbest: 0.8377149 (4)\ttotal: 35.8s\tremaining: 4m 54s\n",
            "13:\tloss: 0.8364928\tbest: 0.8377149 (4)\ttotal: 38.3s\tremaining: 4m 50s\n",
            "14:\tloss: 0.8337575\tbest: 0.8377149 (4)\ttotal: 40.9s\tremaining: 4m 46s\n",
            "15:\tloss: 0.8321364\tbest: 0.8377149 (4)\ttotal: 43.3s\tremaining: 4m 41s\n",
            "16:\tloss: 0.8363598\tbest: 0.8377149 (4)\ttotal: 45.7s\tremaining: 4m 37s\n",
            "17:\tloss: 0.8362772\tbest: 0.8377149 (4)\ttotal: 48.3s\tremaining: 4m 33s\n",
            "18:\tloss: 0.8324527\tbest: 0.8377149 (4)\ttotal: 50.8s\tremaining: 4m 30s\n",
            "19:\tloss: 0.8371973\tbest: 0.8377149 (4)\ttotal: 53.2s\tremaining: 4m 26s\n",
            "20:\tloss: 0.8328625\tbest: 0.8377149 (4)\ttotal: 55.9s\tremaining: 4m 23s\n",
            "21:\tloss: 0.8325533\tbest: 0.8377149 (4)\ttotal: 58.4s\tremaining: 4m 20s\n",
            "22:\tloss: 0.8360184\tbest: 0.8377149 (4)\ttotal: 1m\tremaining: 4m 16s\n",
            "23:\tloss: 0.8351162\tbest: 0.8377149 (4)\ttotal: 1m 3s\tremaining: 4m 14s\n",
            "24:\tloss: 0.8326324\tbest: 0.8377149 (4)\ttotal: 1m 5s\tremaining: 4m 10s\n",
            "25:\tloss: 0.8366222\tbest: 0.8377149 (4)\ttotal: 1m 8s\tremaining: 4m 7s\n",
            "26:\tloss: 0.8390197\tbest: 0.8390197 (26)\ttotal: 1m 11s\tremaining: 4m 5s\n",
            "27:\tloss: 0.8315685\tbest: 0.8390197 (26)\ttotal: 1m 13s\tremaining: 4m 2s\n",
            "28:\tloss: 0.8394762\tbest: 0.8394762 (28)\ttotal: 1m 16s\tremaining: 3m 58s\n",
            "29:\tloss: 0.8361909\tbest: 0.8394762 (28)\ttotal: 1m 18s\tremaining: 3m 56s\n",
            "30:\tloss: 0.8333729\tbest: 0.8394762 (28)\ttotal: 1m 21s\tremaining: 3m 53s\n",
            "31:\tloss: 0.8370104\tbest: 0.8394762 (28)\ttotal: 1m 23s\tremaining: 3m 50s\n",
            "32:\tloss: 0.8398177\tbest: 0.8398177 (32)\ttotal: 1m 26s\tremaining: 3m 47s\n",
            "33:\tloss: 0.8337036\tbest: 0.8398177 (32)\ttotal: 1m 28s\tremaining: 3m 44s\n",
            "34:\tloss: 0.8363922\tbest: 0.8398177 (32)\ttotal: 1m 31s\tremaining: 3m 41s\n",
            "35:\tloss: 0.8376395\tbest: 0.8398177 (32)\ttotal: 1m 33s\tremaining: 3m 39s\n",
            "36:\tloss: 0.8336029\tbest: 0.8398177 (32)\ttotal: 1m 36s\tremaining: 3m 36s\n",
            "37:\tloss: 0.8388436\tbest: 0.8398177 (32)\ttotal: 1m 38s\tremaining: 3m 33s\n",
            "38:\tloss: 0.8398429\tbest: 0.8398429 (38)\ttotal: 1m 41s\tremaining: 3m 30s\n",
            "39:\tloss: 0.8336820\tbest: 0.8398429 (38)\ttotal: 1m 44s\tremaining: 3m 29s\n",
            "40:\tloss: 0.8381175\tbest: 0.8398429 (38)\ttotal: 1m 49s\tremaining: 3m 30s\n",
            "41:\tloss: 0.8400657\tbest: 0.8400657 (41)\ttotal: 1m 54s\tremaining: 3m 32s\n",
            "42:\tloss: 0.8324599\tbest: 0.8400657 (41)\ttotal: 1m 59s\tremaining: 3m 33s\n",
            "43:\tloss: 0.8390377\tbest: 0.8400657 (41)\ttotal: 2m 1s\tremaining: 3m 30s\n",
            "44:\tloss: 0.8380241\tbest: 0.8400657 (41)\ttotal: 2m 4s\tremaining: 3m 27s\n",
            "45:\tloss: 0.8334160\tbest: 0.8400657 (41)\ttotal: 2m 7s\tremaining: 3m 24s\n",
            "46:\tloss: 0.8365216\tbest: 0.8400657 (41)\ttotal: 2m 9s\tremaining: 3m 21s\n",
            "47:\tloss: 0.8365755\tbest: 0.8400657 (41)\ttotal: 2m 12s\tremaining: 3m 18s\n",
            "48:\tloss: 0.8326827\tbest: 0.8400657 (41)\ttotal: 2m 14s\tremaining: 3m 15s\n",
            "49:\tloss: 0.8381714\tbest: 0.8400657 (41)\ttotal: 2m 17s\tremaining: 3m 12s\n",
            "50:\tloss: 0.8367409\tbest: 0.8400657 (41)\ttotal: 2m 19s\tremaining: 3m 9s\n",
            "51:\tloss: 0.8331213\tbest: 0.8400657 (41)\ttotal: 2m 22s\tremaining: 3m 6s\n",
            "52:\tloss: 0.8377761\tbest: 0.8400657 (41)\ttotal: 2m 25s\tremaining: 3m 3s\n",
            "53:\tloss: 0.8375640\tbest: 0.8400657 (41)\ttotal: 2m 27s\tremaining: 3m\n",
            "54:\tloss: 0.8334663\tbest: 0.8400657 (41)\ttotal: 2m 30s\tremaining: 2m 57s\n",
            "55:\tloss: 0.8384195\tbest: 0.8400657 (41)\ttotal: 2m 33s\tremaining: 2m 54s\n",
            "56:\tloss: 0.8370392\tbest: 0.8400657 (41)\ttotal: 2m 35s\tremaining: 2m 52s\n",
            "57:\tloss: 0.8341744\tbest: 0.8400657 (41)\ttotal: 2m 38s\tremaining: 2m 49s\n",
            "58:\tloss: 0.8390593\tbest: 0.8400657 (41)\ttotal: 2m 40s\tremaining: 2m 46s\n",
            "59:\tloss: 0.8381247\tbest: 0.8400657 (41)\ttotal: 2m 43s\tremaining: 2m 43s\n",
            "60:\tloss: 0.8334304\tbest: 0.8400657 (41)\ttotal: 2m 46s\tremaining: 2m 40s\n",
            "61:\tloss: 0.8361873\tbest: 0.8400657 (41)\ttotal: 2m 49s\tremaining: 2m 38s\n",
            "62:\tloss: 0.8363419\tbest: 0.8400657 (41)\ttotal: 2m 52s\tremaining: 2m 36s\n",
            "63:\tloss: 0.8319710\tbest: 0.8400657 (41)\ttotal: 2m 55s\tremaining: 2m 33s\n",
            "64:\tloss: 0.8381607\tbest: 0.8400657 (41)\ttotal: 2m 58s\tremaining: 2m 31s\n",
            "65:\tloss: 0.8317949\tbest: 0.8400657 (41)\ttotal: 3m 2s\tremaining: 2m 29s\n",
            "66:\tloss: 0.8331141\tbest: 0.8400657 (41)\ttotal: 3m 5s\tremaining: 2m 26s\n",
            "67:\tloss: 0.8375496\tbest: 0.8400657 (41)\ttotal: 3m 8s\tremaining: 2m 24s\n",
            "68:\tloss: 0.8346201\tbest: 0.8400657 (41)\ttotal: 3m 12s\tremaining: 2m 21s\n",
            "69:\tloss: 0.8347136\tbest: 0.8400657 (41)\ttotal: 3m 15s\tremaining: 2m 19s\n",
            "70:\tloss: 0.8361981\tbest: 0.8400657 (41)\ttotal: 3m 18s\tremaining: 2m 16s\n",
            "71:\tloss: 0.8362772\tbest: 0.8400657 (41)\ttotal: 3m 21s\tremaining: 2m 14s\n",
            "72:\tloss: 0.8324096\tbest: 0.8400657 (41)\ttotal: 3m 24s\tremaining: 2m 11s\n",
            "73:\tloss: 0.8364928\tbest: 0.8400657 (41)\ttotal: 3m 27s\tremaining: 2m 9s\n",
            "74:\tloss: 0.8337575\tbest: 0.8400657 (41)\ttotal: 3m 31s\tremaining: 2m 6s\n",
            "75:\tloss: 0.8335238\tbest: 0.8400657 (41)\ttotal: 3m 34s\tremaining: 2m 4s\n",
            "76:\tloss: 0.8366474\tbest: 0.8400657 (41)\ttotal: 3m 37s\tremaining: 2m 1s\n",
            "77:\tloss: 0.8362772\tbest: 0.8400657 (41)\ttotal: 3m 41s\tremaining: 1m 59s\n",
            "78:\tloss: 0.8340127\tbest: 0.8400657 (41)\ttotal: 3m 44s\tremaining: 1m 56s\n",
            "79:\tloss: 0.8374058\tbest: 0.8400657 (41)\ttotal: 3m 48s\tremaining: 1m 54s\n",
            "80:\tloss: 0.8328876\tbest: 0.8400657 (41)\ttotal: 3m 51s\tremaining: 1m 51s\n",
            "81:\tloss: 0.8335382\tbest: 0.8400657 (41)\ttotal: 3m 54s\tremaining: 1m 48s\n",
            "82:\tloss: 0.8363598\tbest: 0.8400657 (41)\ttotal: 3m 57s\tremaining: 1m 45s\n",
            "83:\tloss: 0.8351162\tbest: 0.8400657 (41)\ttotal: 4m 1s\tremaining: 1m 43s\n",
            "84:\tloss: 0.8334376\tbest: 0.8400657 (41)\ttotal: 4m 4s\tremaining: 1m 40s\n",
            "85:\tloss: 0.8368954\tbest: 0.8400657 (41)\ttotal: 4m 7s\tremaining: 1m 37s\n",
            "86:\tloss: 0.8390197\tbest: 0.8400657 (41)\ttotal: 4m 11s\tremaining: 1m 35s\n",
            "87:\tloss: 0.8329272\tbest: 0.8400657 (41)\ttotal: 4m 14s\tremaining: 1m 32s\n",
            "88:\tloss: 0.8400082\tbest: 0.8400657 (41)\ttotal: 4m 17s\tremaining: 1m 29s\n",
            "89:\tloss: 0.8361909\tbest: 0.8400657 (41)\ttotal: 4m 21s\tremaining: 1m 27s\n",
            "90:\tloss: 0.8339911\tbest: 0.8400657 (41)\ttotal: 4m 24s\tremaining: 1m 24s\n",
            "91:\tloss: 0.8370895\tbest: 0.8400657 (41)\ttotal: 4m 27s\tremaining: 1m 21s\n",
            "92:\tloss: 0.8398177\tbest: 0.8400657 (41)\ttotal: 4m 31s\tremaining: 1m 18s\n",
            "93:\tloss: 0.8346525\tbest: 0.8400657 (41)\ttotal: 4m 34s\tremaining: 1m 15s\n",
            "94:\tloss: 0.8370392\tbest: 0.8400657 (41)\ttotal: 4m 37s\tremaining: 1m 13s\n",
            "95:\tloss: 0.8376610\tbest: 0.8400657 (41)\ttotal: 4m 40s\tremaining: 1m 10s\n",
            "96:\tloss: 0.8343937\tbest: 0.8400657 (41)\ttotal: 4m 43s\tremaining: 1m 7s\n",
            "97:\tloss: 0.8398285\tbest: 0.8400657 (41)\ttotal: 4m 46s\tremaining: 1m 4s\n",
            "98:\tloss: 0.8399651\tbest: 0.8400657 (41)\ttotal: 4m 50s\tremaining: 1m 1s\n",
            "99:\tloss: 0.8349185\tbest: 0.8400657 (41)\ttotal: 4m 53s\tremaining: 58.6s\n",
            "100:\tloss: 0.8389227\tbest: 0.8400657 (41)\ttotal: 4m 56s\tremaining: 55.8s\n",
            "101:\tloss: 0.8401017\tbest: 0.8401017 (101)\ttotal: 4m 59s\tremaining: 52.9s\n",
            "102:\tloss: 0.8339552\tbest: 0.8401017 (101)\ttotal: 5m 2s\tremaining: 50s\n",
            "103:\tloss: 0.8400298\tbest: 0.8401017 (101)\ttotal: 5m 5s\tremaining: 47.1s\n",
            "104:\tloss: 0.8383584\tbest: 0.8401017 (101)\ttotal: 5m 9s\tremaining: 44.2s\n",
            "105:\tloss: 0.8341708\tbest: 0.8401017 (101)\ttotal: 5m 12s\tremaining: 41.3s\n",
            "106:\tloss: 0.8369242\tbest: 0.8401017 (101)\ttotal: 5m 15s\tremaining: 38.4s\n",
            "107:\tloss: 0.8365755\tbest: 0.8401017 (101)\ttotal: 5m 19s\tremaining: 35.5s\n",
            "108:\tloss: 0.8338761\tbest: 0.8401017 (101)\ttotal: 5m 22s\tremaining: 32.5s\n",
            "109:\tloss: 0.8383799\tbest: 0.8401017 (101)\ttotal: 5m 25s\tremaining: 29.6s\n",
            "110:\tloss: 0.8367768\tbest: 0.8401017 (101)\ttotal: 5m 28s\tremaining: 26.7s\n",
            "111:\tloss: 0.8343577\tbest: 0.8401017 (101)\ttotal: 5m 32s\tremaining: 23.7s\n",
            "112:\tloss: 0.8377761\tbest: 0.8401017 (101)\ttotal: 5m 35s\tremaining: 20.8s\n",
            "113:\tloss: 0.8380960\tbest: 0.8401017 (101)\ttotal: 5m 38s\tremaining: 17.8s\n",
            "114:\tloss: 0.8350155\tbest: 0.8401017 (101)\ttotal: 5m 41s\tremaining: 14.9s\n",
            "115:\tloss: 0.8385668\tbest: 0.8401017 (101)\ttotal: 5m 44s\tremaining: 11.9s\n",
            "116:\tloss: 0.8370392\tbest: 0.8401017 (101)\ttotal: 5m 48s\tremaining: 8.93s\n",
            "117:\tloss: 0.8351629\tbest: 0.8401017 (101)\ttotal: 5m 51s\tremaining: 5.95s\n",
            "118:\tloss: 0.8392246\tbest: 0.8401017 (101)\ttotal: 5m 54s\tremaining: 2.98s\n",
            "119:\tloss: 0.8400405\tbest: 0.8401017 (101)\ttotal: 5m 57s\tremaining: 0us\n",
            "Estimating final quality...\n",
            "{'learn': {'Logloss': 0.31239387953325326, 'AUC': 0.9260907162366572}}\n",
            "0.8263407245961896\n"
          ]
        }
      ]
    },
    {
      "cell_type": "markdown",
      "metadata": {
        "id": "rf4Kjt96EEZU"
      },
      "source": [
        "Лучшее качество по метрике AUC составляет 0.8263407245961896."
      ]
    }
  ]
}